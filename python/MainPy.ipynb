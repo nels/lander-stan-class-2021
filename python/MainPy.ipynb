{
 "cells": [
  {
   "cell_type": "markdown",
   "id": "a3d41168",
   "metadata": {},
   "source": [
    "# Setup"
   ]
  },
  {
   "cell_type": "code",
   "execution_count": 14,
   "id": "8782af8e",
   "metadata": {},
   "outputs": [],
   "source": [
    "import os\n",
    "from pathlib import Path\n",
    "import random\n",
    "\n",
    "import numpy as np\n",
    "import pandas as pd\n",
    "import cmdstanpy\n",
    "import arviz\n",
    "import seaborn as sns"
   ]
  },
  {
   "cell_type": "code",
   "execution_count": 15,
   "id": "9f13f71f",
   "metadata": {},
   "outputs": [
    {
     "name": "stderr",
     "output_type": "stream",
     "text": [
      "Using libraries at paths:\n",
      "- /home/nels/R/x86_64-pc-linux-gnu-library/4.1\n",
      "- /usr/local/lib/R/site-library\n",
      "- /usr/lib/R/site-library\n",
      "- /usr/lib/R/library\n"
     ]
    }
   ],
   "source": [
    "import rpy2.robjects as robjects\n",
    "from rpy2.robjects import pandas2ri\n",
    "pandas2ri.activate()\n",
    "readRDS = robjects.r['readRDS']"
   ]
  },
  {
   "cell_type": "code",
   "execution_count": 8,
   "id": "0e8e2fba",
   "metadata": {},
   "outputs": [],
   "source": [
    "random.seed(42)\n",
    "rng = np.random.default_rng(42)"
   ]
  },
  {
   "cell_type": "code",
   "execution_count": null,
   "id": "938cce70",
   "metadata": {},
   "outputs": [],
   "source": []
  },
  {
   "cell_type": "code",
   "execution_count": null,
   "id": "f7e155de",
   "metadata": {},
   "outputs": [],
   "source": []
  },
  {
   "cell_type": "markdown",
   "id": "f719d84b",
   "metadata": {},
   "source": [
    "# Course data"
   ]
  },
  {
   "cell_type": "code",
   "execution_count": 17,
   "id": "231f490d",
   "metadata": {},
   "outputs": [],
   "source": [
    "pest_data =  readRDS('../data/pest_data.RDS')\n",
    "standata_hier = readRDS('../data/standata_hier.RDS')"
   ]
  },
  {
   "cell_type": "code",
   "execution_count": 18,
   "id": "e7c5f7fe",
   "metadata": {},
   "outputs": [
    {
     "data": {
      "text/html": [
       "<div>\n",
       "<style scoped>\n",
       "    .dataframe tbody tr th:only-of-type {\n",
       "        vertical-align: middle;\n",
       "    }\n",
       "\n",
       "    .dataframe tbody tr th {\n",
       "        vertical-align: top;\n",
       "    }\n",
       "\n",
       "    .dataframe thead th {\n",
       "        text-align: right;\n",
       "    }\n",
       "</style>\n",
       "<table border=\"1\" class=\"dataframe\">\n",
       "  <thead>\n",
       "    <tr style=\"text-align: right;\">\n",
       "      <th></th>\n",
       "      <th>building_id</th>\n",
       "      <th>date</th>\n",
       "      <th>traps</th>\n",
       "      <th>floors</th>\n",
       "      <th>sq_footage_p_floor</th>\n",
       "      <th>live_in_super</th>\n",
       "      <th>monthly_average_rent</th>\n",
       "      <th>average_tenant_age</th>\n",
       "      <th>age_of_building</th>\n",
       "      <th>total_sq_foot</th>\n",
       "      <th>month</th>\n",
       "      <th>complaints</th>\n",
       "      <th>log_sq_foot_1e4</th>\n",
       "    </tr>\n",
       "  </thead>\n",
       "  <tbody>\n",
       "    <tr>\n",
       "      <th>1</th>\n",
       "      <td>37</td>\n",
       "      <td>17181.0</td>\n",
       "      <td>8.0</td>\n",
       "      <td>8.0</td>\n",
       "      <td>5149.008112</td>\n",
       "      <td>0.0</td>\n",
       "      <td>3846.949050</td>\n",
       "      <td>53.877424</td>\n",
       "      <td>47.0</td>\n",
       "      <td>41192.064892</td>\n",
       "      <td>1.0</td>\n",
       "      <td>1.0</td>\n",
       "      <td>1.415661</td>\n",
       "    </tr>\n",
       "    <tr>\n",
       "      <th>2</th>\n",
       "      <td>37</td>\n",
       "      <td>17211.0</td>\n",
       "      <td>8.0</td>\n",
       "      <td>8.0</td>\n",
       "      <td>5149.008112</td>\n",
       "      <td>0.0</td>\n",
       "      <td>3846.949050</td>\n",
       "      <td>53.877424</td>\n",
       "      <td>47.0</td>\n",
       "      <td>41192.064892</td>\n",
       "      <td>2.0</td>\n",
       "      <td>3.0</td>\n",
       "      <td>1.415661</td>\n",
       "    </tr>\n",
       "    <tr>\n",
       "      <th>3</th>\n",
       "      <td>37</td>\n",
       "      <td>17241.0</td>\n",
       "      <td>9.0</td>\n",
       "      <td>8.0</td>\n",
       "      <td>5149.008112</td>\n",
       "      <td>0.0</td>\n",
       "      <td>3846.949050</td>\n",
       "      <td>53.877424</td>\n",
       "      <td>47.0</td>\n",
       "      <td>41192.064892</td>\n",
       "      <td>3.0</td>\n",
       "      <td>0.0</td>\n",
       "      <td>1.415661</td>\n",
       "    </tr>\n",
       "    <tr>\n",
       "      <th>4</th>\n",
       "      <td>37</td>\n",
       "      <td>17271.0</td>\n",
       "      <td>10.0</td>\n",
       "      <td>8.0</td>\n",
       "      <td>5149.008112</td>\n",
       "      <td>0.0</td>\n",
       "      <td>3846.949050</td>\n",
       "      <td>53.877424</td>\n",
       "      <td>47.0</td>\n",
       "      <td>41192.064892</td>\n",
       "      <td>4.0</td>\n",
       "      <td>1.0</td>\n",
       "      <td>1.415661</td>\n",
       "    </tr>\n",
       "    <tr>\n",
       "      <th>5</th>\n",
       "      <td>37</td>\n",
       "      <td>17301.0</td>\n",
       "      <td>11.0</td>\n",
       "      <td>8.0</td>\n",
       "      <td>5149.008112</td>\n",
       "      <td>0.0</td>\n",
       "      <td>3846.949050</td>\n",
       "      <td>53.877424</td>\n",
       "      <td>47.0</td>\n",
       "      <td>41192.064892</td>\n",
       "      <td>5.0</td>\n",
       "      <td>0.0</td>\n",
       "      <td>1.415661</td>\n",
       "    </tr>\n",
       "    <tr>\n",
       "      <th>...</th>\n",
       "      <td>...</td>\n",
       "      <td>...</td>\n",
       "      <td>...</td>\n",
       "      <td>...</td>\n",
       "      <td>...</td>\n",
       "      <td>...</td>\n",
       "      <td>...</td>\n",
       "      <td>...</td>\n",
       "      <td>...</td>\n",
       "      <td>...</td>\n",
       "      <td>...</td>\n",
       "      <td>...</td>\n",
       "      <td>...</td>\n",
       "    </tr>\n",
       "    <tr>\n",
       "      <th>116</th>\n",
       "      <td>98</td>\n",
       "      <td>17391.0</td>\n",
       "      <td>3.0</td>\n",
       "      <td>13.0</td>\n",
       "      <td>4557.786883</td>\n",
       "      <td>1.0</td>\n",
       "      <td>3785.183548</td>\n",
       "      <td>42.138240</td>\n",
       "      <td>39.0</td>\n",
       "      <td>59251.229483</td>\n",
       "      <td>8.0</td>\n",
       "      <td>6.0</td>\n",
       "      <td>1.779201</td>\n",
       "    </tr>\n",
       "    <tr>\n",
       "      <th>117</th>\n",
       "      <td>98</td>\n",
       "      <td>17421.0</td>\n",
       "      <td>2.0</td>\n",
       "      <td>13.0</td>\n",
       "      <td>4557.786883</td>\n",
       "      <td>1.0</td>\n",
       "      <td>3785.183548</td>\n",
       "      <td>42.138240</td>\n",
       "      <td>39.0</td>\n",
       "      <td>59251.229483</td>\n",
       "      <td>9.0</td>\n",
       "      <td>16.0</td>\n",
       "      <td>1.779201</td>\n",
       "    </tr>\n",
       "    <tr>\n",
       "      <th>118</th>\n",
       "      <td>98</td>\n",
       "      <td>17451.0</td>\n",
       "      <td>2.0</td>\n",
       "      <td>13.0</td>\n",
       "      <td>4557.786883</td>\n",
       "      <td>1.0</td>\n",
       "      <td>3785.183548</td>\n",
       "      <td>42.138240</td>\n",
       "      <td>39.0</td>\n",
       "      <td>59251.229483</td>\n",
       "      <td>10.0</td>\n",
       "      <td>5.0</td>\n",
       "      <td>1.779201</td>\n",
       "    </tr>\n",
       "    <tr>\n",
       "      <th>119</th>\n",
       "      <td>98</td>\n",
       "      <td>17481.0</td>\n",
       "      <td>2.0</td>\n",
       "      <td>13.0</td>\n",
       "      <td>4557.786883</td>\n",
       "      <td>1.0</td>\n",
       "      <td>3785.183548</td>\n",
       "      <td>42.138240</td>\n",
       "      <td>39.0</td>\n",
       "      <td>59251.229483</td>\n",
       "      <td>11.0</td>\n",
       "      <td>5.0</td>\n",
       "      <td>1.779201</td>\n",
       "    </tr>\n",
       "    <tr>\n",
       "      <th>120</th>\n",
       "      <td>98</td>\n",
       "      <td>17511.0</td>\n",
       "      <td>1.0</td>\n",
       "      <td>13.0</td>\n",
       "      <td>4557.786883</td>\n",
       "      <td>1.0</td>\n",
       "      <td>3785.183548</td>\n",
       "      <td>42.138240</td>\n",
       "      <td>39.0</td>\n",
       "      <td>59251.229483</td>\n",
       "      <td>12.0</td>\n",
       "      <td>16.0</td>\n",
       "      <td>1.779201</td>\n",
       "    </tr>\n",
       "  </tbody>\n",
       "</table>\n",
       "<p>120 rows × 13 columns</p>\n",
       "</div>"
      ],
      "text/plain": [
       "     building_id     date  traps  floors  sq_footage_p_floor  live_in_super  \\\n",
       "1             37  17181.0    8.0     8.0         5149.008112            0.0   \n",
       "2             37  17211.0    8.0     8.0         5149.008112            0.0   \n",
       "3             37  17241.0    9.0     8.0         5149.008112            0.0   \n",
       "4             37  17271.0   10.0     8.0         5149.008112            0.0   \n",
       "5             37  17301.0   11.0     8.0         5149.008112            0.0   \n",
       "..           ...      ...    ...     ...                 ...            ...   \n",
       "116           98  17391.0    3.0    13.0         4557.786883            1.0   \n",
       "117           98  17421.0    2.0    13.0         4557.786883            1.0   \n",
       "118           98  17451.0    2.0    13.0         4557.786883            1.0   \n",
       "119           98  17481.0    2.0    13.0         4557.786883            1.0   \n",
       "120           98  17511.0    1.0    13.0         4557.786883            1.0   \n",
       "\n",
       "     monthly_average_rent  average_tenant_age  age_of_building  total_sq_foot  \\\n",
       "1             3846.949050           53.877424             47.0   41192.064892   \n",
       "2             3846.949050           53.877424             47.0   41192.064892   \n",
       "3             3846.949050           53.877424             47.0   41192.064892   \n",
       "4             3846.949050           53.877424             47.0   41192.064892   \n",
       "5             3846.949050           53.877424             47.0   41192.064892   \n",
       "..                    ...                 ...              ...            ...   \n",
       "116           3785.183548           42.138240             39.0   59251.229483   \n",
       "117           3785.183548           42.138240             39.0   59251.229483   \n",
       "118           3785.183548           42.138240             39.0   59251.229483   \n",
       "119           3785.183548           42.138240             39.0   59251.229483   \n",
       "120           3785.183548           42.138240             39.0   59251.229483   \n",
       "\n",
       "     month  complaints  log_sq_foot_1e4  \n",
       "1      1.0         1.0         1.415661  \n",
       "2      2.0         3.0         1.415661  \n",
       "3      3.0         0.0         1.415661  \n",
       "4      4.0         1.0         1.415661  \n",
       "5      5.0         0.0         1.415661  \n",
       "..     ...         ...              ...  \n",
       "116    8.0         6.0         1.779201  \n",
       "117    9.0        16.0         1.779201  \n",
       "118   10.0         5.0         1.779201  \n",
       "119   11.0         5.0         1.779201  \n",
       "120   12.0        16.0         1.779201  \n",
       "\n",
       "[120 rows x 13 columns]"
      ]
     },
     "execution_count": 18,
     "metadata": {},
     "output_type": "execute_result"
    }
   ],
   "source": [
    "pest_data"
   ]
  },
  {
   "cell_type": "markdown",
   "id": "f06b9089",
   "metadata": {},
   "source": [
    "# Prior Predictive Checks"
   ]
  },
  {
   "cell_type": "code",
   "execution_count": 12,
   "id": "135ca6dd",
   "metadata": {},
   "outputs": [],
   "source": [
    "def simple_poisson_dgp(traps, alpha_mean, alpha_sd, beta_mean, beta_sd):\n",
    "    n = len(traps)\n",
    "    alpha = rng.normal(loc=alpha_mean, scale=alpha_sd, size=1)\n",
    "    beta = rng.normal(loc=beta_mean, scale=beta_sd, size=1)\n",
    "    complaints = rng.poisson(lam=np.exp(alpha + beta * traps), size=n)\n",
    "    return complaints"
   ]
  },
  {
   "cell_type": "markdown",
   "id": "5f8cf766",
   "metadata": {},
   "source": [
    "## Sample from the priors"
   ]
  },
  {
   "cell_type": "code",
   "execution_count": 24,
   "id": "957d538f",
   "metadata": {},
   "outputs": [
    {
     "data": {
      "text/plain": [
       "array([0, 0, 0, 0, 0, 0, 0, 0, 0, 0, 0, 0, 0, 0, 0, 0, 0, 0, 0, 0, 0, 0,\n",
       "       0, 0, 0, 0, 0, 0, 0, 0, 0, 0, 0, 0, 0, 0, 0, 0, 0, 0, 0, 0, 0, 0,\n",
       "       0, 0, 0, 0, 0, 0, 0, 0, 0, 0, 0, 0, 0, 0, 0, 0, 0, 0, 0, 0, 0, 0,\n",
       "       0, 0, 0, 0, 0, 0, 0, 0, 0, 0, 0, 0, 0, 0, 0, 0, 0, 0, 0, 0, 0, 0,\n",
       "       0, 1, 0, 0, 0, 0, 0, 0, 0, 0, 0, 0, 0, 0, 0, 0, 0, 0, 0, 0, 0, 0,\n",
       "       0, 0, 0, 0, 0, 0, 0, 0, 1, 0])"
      ]
     },
     "execution_count": 24,
     "metadata": {},
     "output_type": "execute_result"
    }
   ],
   "source": [
    "simple_poisson_dgp(\n",
    "    traps=pest_data['traps'],\n",
    "    alpha_mean=0,\n",
    "    alpha_sd=1,\n",
    "    beta_mean=0,\n",
    "    beta_sd=1\n",
    ")"
   ]
  },
  {
   "cell_type": "code",
   "execution_count": 40,
   "id": "ad36718f",
   "metadata": {},
   "outputs": [],
   "source": [
    "# take 1000 samples\n",
    "prior_preds = pd.DataFrame(\n",
    "    [\n",
    "        simple_poisson_dgp(\n",
    "            traps=pest_data['traps'],\n",
    "            alpha_mean=0,\n",
    "            alpha_sd=1,\n",
    "            beta_mean=0,\n",
    "            beta_sd=1\n",
    "        ) for _ in range(1000)\n",
    "    ]\n",
    ")"
   ]
  },
  {
   "cell_type": "code",
   "execution_count": 41,
   "id": "650b1740",
   "metadata": {},
   "outputs": [
    {
     "data": {
      "text/plain": [
       "(1000, 120)"
      ]
     },
     "execution_count": 41,
     "metadata": {},
     "output_type": "execute_result"
    }
   ],
   "source": [
    "prior_preds.shape"
   ]
  },
  {
   "cell_type": "code",
   "execution_count": 37,
   "id": "81b6b6e2",
   "metadata": {},
   "outputs": [
    {
     "data": {
      "text/plain": [
       "count    120.0\n",
       "mean       0.0\n",
       "std        0.0\n",
       "min        0.0\n",
       "25%        0.0\n",
       "50%        0.0\n",
       "75%        0.0\n",
       "max        0.0\n",
       "dtype: float64"
      ]
     },
     "execution_count": 37,
     "metadata": {},
     "output_type": "execute_result"
    }
   ],
   "source": [
    "prior_preds.min().describe()"
   ]
  },
  {
   "cell_type": "code",
   "execution_count": 38,
   "id": "63ade702",
   "metadata": {},
   "outputs": [
    {
     "data": {
      "text/plain": [
       "count    1.200000e+02\n",
       "mean     4.666883e+13\n",
       "std      3.071287e+14\n",
       "min      9.000000e+01\n",
       "25%      4.275984e+08\n",
       "50%      9.559405e+09\n",
       "75%      2.137155e+11\n",
       "max      2.388114e+15\n",
       "dtype: float64"
      ]
     },
     "execution_count": 38,
     "metadata": {},
     "output_type": "execute_result"
    }
   ],
   "source": [
    "prior_preds.max().describe()"
   ]
  },
  {
   "cell_type": "code",
   "execution_count": 39,
   "id": "b39e1d80",
   "metadata": {},
   "outputs": [
    {
     "data": {
      "text/plain": [
       "count    1.200000e+02\n",
       "mean     4.703973e+10\n",
       "std      3.093706e+11\n",
       "min      2.632000e+00\n",
       "25%      4.616992e+05\n",
       "50%      9.993859e+06\n",
       "75%      2.196015e+08\n",
       "max      2.405517e+12\n",
       "dtype: float64"
      ]
     },
     "execution_count": 39,
     "metadata": {},
     "output_type": "execute_result"
    }
   ],
   "source": [
    "prior_preds.mean().describe()"
   ]
  },
  {
   "cell_type": "code",
   "execution_count": null,
   "id": "125de7c9",
   "metadata": {},
   "outputs": [],
   "source": []
  }
 ],
 "metadata": {
  "kernelspec": {
   "display_name": "Python 3 (ipykernel)",
   "language": "python",
   "name": "python3"
  },
  "language_info": {
   "codemirror_mode": {
    "name": "ipython",
    "version": 3
   },
   "file_extension": ".py",
   "mimetype": "text/x-python",
   "name": "python",
   "nbconvert_exporter": "python",
   "pygments_lexer": "ipython3",
   "version": "3.8.5"
  },
  "toc": {
   "base_numbering": 1,
   "nav_menu": {},
   "number_sections": true,
   "sideBar": true,
   "skip_h1_title": false,
   "title_cell": "Table of Contents",
   "title_sidebar": "Contents",
   "toc_cell": false,
   "toc_position": {},
   "toc_section_display": true,
   "toc_window_display": true
  }
 },
 "nbformat": 4,
 "nbformat_minor": 5
}
