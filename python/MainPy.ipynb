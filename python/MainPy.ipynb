{
 "cells": [
  {
   "cell_type": "markdown",
   "id": "f4172c48",
   "metadata": {},
   "source": [
    "# Setup"
   ]
  },
  {
   "cell_type": "code",
   "execution_count": 14,
   "id": "572a4382",
   "metadata": {},
   "outputs": [],
   "source": [
    "import os\n",
    "from pathlib import Path\n",
    "import random\n",
    "\n",
    "import numpy as np\n",
    "import pandas as pd\n",
    "import cmdstanpy\n",
    "import arviz\n",
    "import seaborn as sns"
   ]
  },
  {
   "cell_type": "code",
   "execution_count": 15,
   "id": "492aba71",
   "metadata": {},
   "outputs": [
    {
     "name": "stderr",
     "output_type": "stream",
     "text": [
      "Using libraries at paths:\n",
      "- /home/nels/R/x86_64-pc-linux-gnu-library/4.1\n",
      "- /usr/local/lib/R/site-library\n",
      "- /usr/lib/R/site-library\n",
      "- /usr/lib/R/library\n"
     ]
    }
   ],
   "source": [
    "import rpy2.robjects as robjects\n",
    "from rpy2.robjects import pandas2ri\n",
    "pandas2ri.activate()\n",
    "readRDS = robjects.r['readRDS']"
   ]
  },
  {
   "cell_type": "code",
   "execution_count": 8,
   "id": "eee3ccb9",
   "metadata": {},
   "outputs": [],
   "source": [
    "random.seed(42)\n",
    "rng = np.random.default_rng(42)"
   ]
  },
  {
   "cell_type": "code",
   "execution_count": null,
   "id": "38364ba2",
   "metadata": {},
   "outputs": [],
   "source": []
  },
  {
   "cell_type": "code",
   "execution_count": null,
   "id": "78df8858",
   "metadata": {},
   "outputs": [],
   "source": []
  },
  {
   "cell_type": "markdown",
   "id": "ce0c0233",
   "metadata": {},
   "source": [
    "# Course data"
   ]
  },
  {
   "cell_type": "code",
   "execution_count": 17,
   "id": "831eafa2",
   "metadata": {},
   "outputs": [],
   "source": [
    "pest_data =  readRDS('../data/pest_data.RDS')\n",
    "standata_hier = readRDS('../data/standata_hier.RDS')"
   ]
  },
  {
   "cell_type": "code",
   "execution_count": 18,
   "id": "9ee248e8",
   "metadata": {},
   "outputs": [
    {
     "data": {
      "text/html": [
       "<div>\n",
       "<style scoped>\n",
       "    .dataframe tbody tr th:only-of-type {\n",
       "        vertical-align: middle;\n",
       "    }\n",
       "\n",
       "    .dataframe tbody tr th {\n",
       "        vertical-align: top;\n",
       "    }\n",
       "\n",
       "    .dataframe thead th {\n",
       "        text-align: right;\n",
       "    }\n",
       "</style>\n",
       "<table border=\"1\" class=\"dataframe\">\n",
       "  <thead>\n",
       "    <tr style=\"text-align: right;\">\n",
       "      <th></th>\n",
       "      <th>building_id</th>\n",
       "      <th>date</th>\n",
       "      <th>traps</th>\n",
       "      <th>floors</th>\n",
       "      <th>sq_footage_p_floor</th>\n",
       "      <th>live_in_super</th>\n",
       "      <th>monthly_average_rent</th>\n",
       "      <th>average_tenant_age</th>\n",
       "      <th>age_of_building</th>\n",
       "      <th>total_sq_foot</th>\n",
       "      <th>month</th>\n",
       "      <th>complaints</th>\n",
       "      <th>log_sq_foot_1e4</th>\n",
       "    </tr>\n",
       "  </thead>\n",
       "  <tbody>\n",
       "    <tr>\n",
       "      <th>1</th>\n",
       "      <td>37</td>\n",
       "      <td>17181.0</td>\n",
       "      <td>8.0</td>\n",
       "      <td>8.0</td>\n",
       "      <td>5149.008112</td>\n",
       "      <td>0.0</td>\n",
       "      <td>3846.949050</td>\n",
       "      <td>53.877424</td>\n",
       "      <td>47.0</td>\n",
       "      <td>41192.064892</td>\n",
       "      <td>1.0</td>\n",
       "      <td>1.0</td>\n",
       "      <td>1.415661</td>\n",
       "    </tr>\n",
       "    <tr>\n",
       "      <th>2</th>\n",
       "      <td>37</td>\n",
       "      <td>17211.0</td>\n",
       "      <td>8.0</td>\n",
       "      <td>8.0</td>\n",
       "      <td>5149.008112</td>\n",
       "      <td>0.0</td>\n",
       "      <td>3846.949050</td>\n",
       "      <td>53.877424</td>\n",
       "      <td>47.0</td>\n",
       "      <td>41192.064892</td>\n",
       "      <td>2.0</td>\n",
       "      <td>3.0</td>\n",
       "      <td>1.415661</td>\n",
       "    </tr>\n",
       "    <tr>\n",
       "      <th>3</th>\n",
       "      <td>37</td>\n",
       "      <td>17241.0</td>\n",
       "      <td>9.0</td>\n",
       "      <td>8.0</td>\n",
       "      <td>5149.008112</td>\n",
       "      <td>0.0</td>\n",
       "      <td>3846.949050</td>\n",
       "      <td>53.877424</td>\n",
       "      <td>47.0</td>\n",
       "      <td>41192.064892</td>\n",
       "      <td>3.0</td>\n",
       "      <td>0.0</td>\n",
       "      <td>1.415661</td>\n",
       "    </tr>\n",
       "    <tr>\n",
       "      <th>4</th>\n",
       "      <td>37</td>\n",
       "      <td>17271.0</td>\n",
       "      <td>10.0</td>\n",
       "      <td>8.0</td>\n",
       "      <td>5149.008112</td>\n",
       "      <td>0.0</td>\n",
       "      <td>3846.949050</td>\n",
       "      <td>53.877424</td>\n",
       "      <td>47.0</td>\n",
       "      <td>41192.064892</td>\n",
       "      <td>4.0</td>\n",
       "      <td>1.0</td>\n",
       "      <td>1.415661</td>\n",
       "    </tr>\n",
       "    <tr>\n",
       "      <th>5</th>\n",
       "      <td>37</td>\n",
       "      <td>17301.0</td>\n",
       "      <td>11.0</td>\n",
       "      <td>8.0</td>\n",
       "      <td>5149.008112</td>\n",
       "      <td>0.0</td>\n",
       "      <td>3846.949050</td>\n",
       "      <td>53.877424</td>\n",
       "      <td>47.0</td>\n",
       "      <td>41192.064892</td>\n",
       "      <td>5.0</td>\n",
       "      <td>0.0</td>\n",
       "      <td>1.415661</td>\n",
       "    </tr>\n",
       "    <tr>\n",
       "      <th>...</th>\n",
       "      <td>...</td>\n",
       "      <td>...</td>\n",
       "      <td>...</td>\n",
       "      <td>...</td>\n",
       "      <td>...</td>\n",
       "      <td>...</td>\n",
       "      <td>...</td>\n",
       "      <td>...</td>\n",
       "      <td>...</td>\n",
       "      <td>...</td>\n",
       "      <td>...</td>\n",
       "      <td>...</td>\n",
       "      <td>...</td>\n",
       "    </tr>\n",
       "    <tr>\n",
       "      <th>116</th>\n",
       "      <td>98</td>\n",
       "      <td>17391.0</td>\n",
       "      <td>3.0</td>\n",
       "      <td>13.0</td>\n",
       "      <td>4557.786883</td>\n",
       "      <td>1.0</td>\n",
       "      <td>3785.183548</td>\n",
       "      <td>42.138240</td>\n",
       "      <td>39.0</td>\n",
       "      <td>59251.229483</td>\n",
       "      <td>8.0</td>\n",
       "      <td>6.0</td>\n",
       "      <td>1.779201</td>\n",
       "    </tr>\n",
       "    <tr>\n",
       "      <th>117</th>\n",
       "      <td>98</td>\n",
       "      <td>17421.0</td>\n",
       "      <td>2.0</td>\n",
       "      <td>13.0</td>\n",
       "      <td>4557.786883</td>\n",
       "      <td>1.0</td>\n",
       "      <td>3785.183548</td>\n",
       "      <td>42.138240</td>\n",
       "      <td>39.0</td>\n",
       "      <td>59251.229483</td>\n",
       "      <td>9.0</td>\n",
       "      <td>16.0</td>\n",
       "      <td>1.779201</td>\n",
       "    </tr>\n",
       "    <tr>\n",
       "      <th>118</th>\n",
       "      <td>98</td>\n",
       "      <td>17451.0</td>\n",
       "      <td>2.0</td>\n",
       "      <td>13.0</td>\n",
       "      <td>4557.786883</td>\n",
       "      <td>1.0</td>\n",
       "      <td>3785.183548</td>\n",
       "      <td>42.138240</td>\n",
       "      <td>39.0</td>\n",
       "      <td>59251.229483</td>\n",
       "      <td>10.0</td>\n",
       "      <td>5.0</td>\n",
       "      <td>1.779201</td>\n",
       "    </tr>\n",
       "    <tr>\n",
       "      <th>119</th>\n",
       "      <td>98</td>\n",
       "      <td>17481.0</td>\n",
       "      <td>2.0</td>\n",
       "      <td>13.0</td>\n",
       "      <td>4557.786883</td>\n",
       "      <td>1.0</td>\n",
       "      <td>3785.183548</td>\n",
       "      <td>42.138240</td>\n",
       "      <td>39.0</td>\n",
       "      <td>59251.229483</td>\n",
       "      <td>11.0</td>\n",
       "      <td>5.0</td>\n",
       "      <td>1.779201</td>\n",
       "    </tr>\n",
       "    <tr>\n",
       "      <th>120</th>\n",
       "      <td>98</td>\n",
       "      <td>17511.0</td>\n",
       "      <td>1.0</td>\n",
       "      <td>13.0</td>\n",
       "      <td>4557.786883</td>\n",
       "      <td>1.0</td>\n",
       "      <td>3785.183548</td>\n",
       "      <td>42.138240</td>\n",
       "      <td>39.0</td>\n",
       "      <td>59251.229483</td>\n",
       "      <td>12.0</td>\n",
       "      <td>16.0</td>\n",
       "      <td>1.779201</td>\n",
       "    </tr>\n",
       "  </tbody>\n",
       "</table>\n",
       "<p>120 rows × 13 columns</p>\n",
       "</div>"
      ],
      "text/plain": [
       "     building_id     date  traps  floors  sq_footage_p_floor  live_in_super  \\\n",
       "1             37  17181.0    8.0     8.0         5149.008112            0.0   \n",
       "2             37  17211.0    8.0     8.0         5149.008112            0.0   \n",
       "3             37  17241.0    9.0     8.0         5149.008112            0.0   \n",
       "4             37  17271.0   10.0     8.0         5149.008112            0.0   \n",
       "5             37  17301.0   11.0     8.0         5149.008112            0.0   \n",
       "..           ...      ...    ...     ...                 ...            ...   \n",
       "116           98  17391.0    3.0    13.0         4557.786883            1.0   \n",
       "117           98  17421.0    2.0    13.0         4557.786883            1.0   \n",
       "118           98  17451.0    2.0    13.0         4557.786883            1.0   \n",
       "119           98  17481.0    2.0    13.0         4557.786883            1.0   \n",
       "120           98  17511.0    1.0    13.0         4557.786883            1.0   \n",
       "\n",
       "     monthly_average_rent  average_tenant_age  age_of_building  total_sq_foot  \\\n",
       "1             3846.949050           53.877424             47.0   41192.064892   \n",
       "2             3846.949050           53.877424             47.0   41192.064892   \n",
       "3             3846.949050           53.877424             47.0   41192.064892   \n",
       "4             3846.949050           53.877424             47.0   41192.064892   \n",
       "5             3846.949050           53.877424             47.0   41192.064892   \n",
       "..                    ...                 ...              ...            ...   \n",
       "116           3785.183548           42.138240             39.0   59251.229483   \n",
       "117           3785.183548           42.138240             39.0   59251.229483   \n",
       "118           3785.183548           42.138240             39.0   59251.229483   \n",
       "119           3785.183548           42.138240             39.0   59251.229483   \n",
       "120           3785.183548           42.138240             39.0   59251.229483   \n",
       "\n",
       "     month  complaints  log_sq_foot_1e4  \n",
       "1      1.0         1.0         1.415661  \n",
       "2      2.0         3.0         1.415661  \n",
       "3      3.0         0.0         1.415661  \n",
       "4      4.0         1.0         1.415661  \n",
       "5      5.0         0.0         1.415661  \n",
       "..     ...         ...              ...  \n",
       "116    8.0         6.0         1.779201  \n",
       "117    9.0        16.0         1.779201  \n",
       "118   10.0         5.0         1.779201  \n",
       "119   11.0         5.0         1.779201  \n",
       "120   12.0        16.0         1.779201  \n",
       "\n",
       "[120 rows x 13 columns]"
      ]
     },
     "execution_count": 18,
     "metadata": {},
     "output_type": "execute_result"
    }
   ],
   "source": [
    "pest_data"
   ]
  },
  {
   "cell_type": "markdown",
   "id": "31f9a87f",
   "metadata": {},
   "source": [
    "# Prior Predictive Checks"
   ]
  },
  {
   "cell_type": "code",
   "execution_count": 12,
   "id": "dfcbf27c",
   "metadata": {},
   "outputs": [],
   "source": [
    "def simple_poisson_dgp(traps, alpha_mean, alpha_sd, beta_mean, beta_sd):\n",
    "    n = len(traps)\n",
    "    alpha = rng.normal(loc=alpha_mean, scale=alpha_sd, size=1)\n",
    "    beta = rng.normal(loc=beta_mean, scale=beta_sd, size=1)\n",
    "    complaints = rng.poisson(lam=np.exp(alpha + beta * traps), size=n)\n",
    "    return complaints"
   ]
  },
  {
   "cell_type": "markdown",
   "id": "393918ea",
   "metadata": {},
   "source": [
    "## Sample from the priors"
   ]
  },
  {
   "cell_type": "code",
   "execution_count": 57,
   "id": "72bdf4bb",
   "metadata": {},
   "outputs": [
    {
     "data": {
      "text/plain": [
       "array([  1915228,   1913960,  12173311,  77388556, 492030656, 492007184,\n",
       "        77394564,  77393440,  12172754,  12174048,   1916015,  12174766,\n",
       "          301619,    301479,   1915170,  12173968,  77386513,  12171783,\n",
       "        12172046,  77402433,  77397211,  12172875,  12170326,   1916062,\n",
       "         1916007,   1912988,    300888,     47253,     47204,    301127,\n",
       "           47589,    300655,    300630,    301435,    301889,   1913804,\n",
       "           47586,     47615,    301603,    301711,     47333,    301865,\n",
       "          299624,     47549,    302054,     47267,    301797,   1915317,\n",
       "          300887,    300970,   1916293,    301276,     47233,     47192,\n",
       "          300579,    301402,     47120,     47429,     46946,    301919,\n",
       "          300420,    300767,    301169,   1916437,    300273,    301188,\n",
       "          300433,     47079,     47562,      7356,     47431,    301033,\n",
       "            7377,      7432,     47283,     47215,    301446,   1913976,\n",
       "        12170756,  12175378,  12174512,  12169340,  12170307,  77400420,\n",
       "          301415,    301569,    301150,     47248,      7448,      1137,\n",
       "            1204,      7355,      7409,     46892,      7440,      7421,\n",
       "         1916236,    301974,     47448,    301067,   1915924,   1914452,\n",
       "         1913695,  12173338,   1914883,    300964,   1915447,   1914518,\n",
       "          301120,   1913808,    302415,     47405,     47134,      7515,\n",
       "            1110,       172,        30,        33,        30,         4])"
      ]
     },
     "execution_count": 57,
     "metadata": {},
     "output_type": "execute_result"
    }
   ],
   "source": [
    "simple_poisson_dgp(\n",
    "    traps=pest_data['traps'],\n",
    "    alpha_mean=0,\n",
    "    alpha_sd=1,\n",
    "    beta_mean=0,\n",
    "    beta_sd=1\n",
    ")"
   ]
  },
  {
   "cell_type": "code",
   "execution_count": 47,
   "id": "b14c2ccc",
   "metadata": {},
   "outputs": [],
   "source": [
    "# take 1000 samples\n",
    "prior_preds = pd.DataFrame(\n",
    "    [\n",
    "        simple_poisson_dgp(\n",
    "            traps=pest_data['traps'],\n",
    "            alpha_mean=0,\n",
    "            alpha_sd=1,\n",
    "            beta_mean=0,\n",
    "            beta_sd=1\n",
    "        ) for _ in range(1000)\n",
    "    ]\n",
    ")"
   ]
  },
  {
   "cell_type": "code",
   "execution_count": 52,
   "id": "e277af25",
   "metadata": {},
   "outputs": [
    {
     "data": {
      "text/plain": [
       "(1000, 120)"
      ]
     },
     "execution_count": 52,
     "metadata": {},
     "output_type": "execute_result"
    }
   ],
   "source": [
    "prior_preds.shape"
   ]
  },
  {
   "cell_type": "code",
   "execution_count": 62,
   "id": "5b6da2e6",
   "metadata": {},
   "outputs": [
    {
     "data": {
      "text/plain": [
       "count    1.000000e+03\n",
       "mean     9.473313e+10\n",
       "std      2.970072e+12\n",
       "min      0.000000e+00\n",
       "25%      4.166667e-02\n",
       "50%      1.012500e+00\n",
       "75%      2.427417e+02\n",
       "max      9.392069e+13\n",
       "dtype: float64"
      ]
     },
     "execution_count": 62,
     "metadata": {},
     "output_type": "execute_result"
    }
   ],
   "source": [
    "prior_preds.transpose().mean().describe()"
   ]
  },
  {
   "cell_type": "code",
   "execution_count": 63,
   "id": "c0722820",
   "metadata": {},
   "outputs": [
    {
     "data": {
      "text/plain": [
       "count    1000.000000\n",
       "mean        1.727000\n",
       "std         4.810365\n",
       "min         0.000000\n",
       "25%         0.000000\n",
       "50%         0.000000\n",
       "75%         1.000000\n",
       "max        79.000000\n",
       "dtype: float64"
      ]
     },
     "execution_count": 63,
     "metadata": {},
     "output_type": "execute_result"
    }
   ],
   "source": [
    "prior_preds.transpose().min().describe()"
   ]
  },
  {
   "cell_type": "code",
   "execution_count": 64,
   "id": "99a132a2",
   "metadata": {},
   "outputs": [
    {
     "data": {
      "text/plain": [
       "count    1.000000e+03\n",
       "mean     4.894503e+12\n",
       "std      1.535367e+14\n",
       "min      0.000000e+00\n",
       "25%      1.000000e+00\n",
       "50%      5.000000e+00\n",
       "75%      1.913250e+03\n",
       "max      4.855203e+15\n",
       "dtype: float64"
      ]
     },
     "execution_count": 64,
     "metadata": {},
     "output_type": "execute_result"
    }
   ],
   "source": [
    "prior_preds.transpose().max().describe()"
   ]
  },
  {
   "cell_type": "code",
   "execution_count": null,
   "id": "162ebee0",
   "metadata": {},
   "outputs": [],
   "source": []
  }
 ],
 "metadata": {
  "kernelspec": {
   "display_name": "Python 3 (ipykernel)",
   "language": "python",
   "name": "python3"
  },
  "language_info": {
   "codemirror_mode": {
    "name": "ipython",
    "version": 3
   },
   "file_extension": ".py",
   "mimetype": "text/x-python",
   "name": "python",
   "nbconvert_exporter": "python",
   "pygments_lexer": "ipython3",
   "version": "3.8.5"
  },
  "toc": {
   "base_numbering": 1,
   "nav_menu": {},
   "number_sections": true,
   "sideBar": true,
   "skip_h1_title": false,
   "title_cell": "Table of Contents",
   "title_sidebar": "Contents",
   "toc_cell": false,
   "toc_position": {},
   "toc_section_display": true,
   "toc_window_display": true
  }
 },
 "nbformat": 4,
 "nbformat_minor": 5
}
